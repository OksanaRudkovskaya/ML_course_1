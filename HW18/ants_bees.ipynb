{
 "cells": [
  {
   "cell_type": "markdown",
   "metadata": {},
   "source": [
    "# Оксана Рудковская, домашнее задание №1 по блоку CV"
   ]
  },
  {
   "cell_type": "code",
   "execution_count": 1,
   "metadata": {},
   "outputs": [],
   "source": [
    "import cv2\n",
    "import numpy as np\n",
    "import tensorflow as tf\n",
    "import tensorflow.keras as keras\n",
    "import os\n",
    "from random import shuffle\n",
    "from glob import glob"
   ]
  },
  {
   "cell_type": "code",
   "execution_count": 3,
   "metadata": {},
   "outputs": [],
   "source": [
    "train_generator = keras.preprocessing.image.ImageDataGenerator(rescale=1./255.)\n",
    "test_generator = keras.preprocessing.image.ImageDataGenerator(rescale=1./255.)"
   ]
  },
  {
   "cell_type": "code",
   "execution_count": 4,
   "metadata": {},
   "outputs": [
    {
     "name": "stdout",
     "output_type": "stream",
     "text": [
      "Found 244 images belonging to 2 classes.\n",
      "Found 153 images belonging to 2 classes.\n"
     ]
    }
   ],
   "source": [
    "train = train_generator.flow_from_directory('hymenoptera_data/train', target_size=(224, 224), batch_size=32, class_mode='binary')\n",
    "test = test_generator.flow_from_directory('hymenoptera_data/val', target_size=(224, 224), batch_size=32, class_mode='binary')"
   ]
  },
  {
   "cell_type": "code",
   "execution_count": 5,
   "metadata": {},
   "outputs": [],
   "source": [
    "i = keras.layers.Input(shape=(224,224,3))\n",
    "o = keras.layers.Conv2D(16, (5,5), strides=(3,3))(i)\n",
    "o = keras.layers.MaxPool2D((2,2))(o)\n",
    "o = keras.layers.ReLU()(o)\n",
    "o = keras.layers.Conv2D(32, (3,3))(o)\n",
    "o = keras.layers.MaxPool2D((2,2))(o)\n",
    "o = keras.layers.ReLU()(o)\n",
    "o = keras.layers.Conv2D(64, (3,3), strides=(1,1))(o)\n",
    "o = keras.layers.MaxPool2D((2,2))(o)\n",
    "o = keras.layers.ReLU()(o)\n",
    "o = keras.layers.Flatten()(o)\n",
    "o = keras.layers.Dense(1, activation='sigmoid')(o)"
   ]
  },
  {
   "cell_type": "code",
   "execution_count": 6,
   "metadata": {},
   "outputs": [
    {
     "name": "stdout",
     "output_type": "stream",
     "text": [
      "Model: \"model\"\n",
      "_________________________________________________________________\n",
      "Layer (type)                 Output Shape              Param #   \n",
      "=================================================================\n",
      "input_1 (InputLayer)         [(None, 224, 224, 3)]     0         \n",
      "_________________________________________________________________\n",
      "conv2d (Conv2D)              (None, 74, 74, 16)        1216      \n",
      "_________________________________________________________________\n",
      "max_pooling2d (MaxPooling2D) (None, 37, 37, 16)        0         \n",
      "_________________________________________________________________\n",
      "re_lu (ReLU)                 (None, 37, 37, 16)        0         \n",
      "_________________________________________________________________\n",
      "conv2d_1 (Conv2D)            (None, 35, 35, 32)        4640      \n",
      "_________________________________________________________________\n",
      "max_pooling2d_1 (MaxPooling2 (None, 17, 17, 32)        0         \n",
      "_________________________________________________________________\n",
      "re_lu_1 (ReLU)               (None, 17, 17, 32)        0         \n",
      "_________________________________________________________________\n",
      "conv2d_2 (Conv2D)            (None, 15, 15, 64)        18496     \n",
      "_________________________________________________________________\n",
      "max_pooling2d_2 (MaxPooling2 (None, 7, 7, 64)          0         \n",
      "_________________________________________________________________\n",
      "re_lu_2 (ReLU)               (None, 7, 7, 64)          0         \n",
      "_________________________________________________________________\n",
      "flatten (Flatten)            (None, 3136)              0         \n",
      "_________________________________________________________________\n",
      "dense (Dense)                (None, 1)                 3137      \n",
      "=================================================================\n",
      "Total params: 27,489\n",
      "Trainable params: 27,489\n",
      "Non-trainable params: 0\n",
      "_________________________________________________________________\n"
     ]
    }
   ],
   "source": [
    "model = keras.Model(inputs=i, outputs=o)\n",
    "model.compile(optimizer='adam', loss='binary_crossentropy', metrics=['accuracy'])\n",
    "model.summary()"
   ]
  },
  {
   "cell_type": "code",
   "execution_count": 7,
   "metadata": {},
   "outputs": [
    {
     "name": "stdout",
     "output_type": "stream",
     "text": [
      "Train for 8 steps, validate for 5 steps\n",
      "Epoch 1/10\n",
      "8/8 [==============================] - 6s 721ms/step - loss: 0.7404 - accuracy: 0.4877 - val_loss: 0.6865 - val_accuracy: 0.5686\n",
      "Epoch 2/10\n",
      "8/8 [==============================] - 5s 643ms/step - loss: 0.6899 - accuracy: 0.4959 - val_loss: 0.6793 - val_accuracy: 0.5425\n",
      "Epoch 3/10\n",
      "8/8 [==============================] - 5s 604ms/step - loss: 0.6888 - accuracy: 0.4959 - val_loss: 0.6775 - val_accuracy: 0.5425\n",
      "Epoch 4/10\n",
      "8/8 [==============================] - 5s 587ms/step - loss: 0.6805 - accuracy: 0.4959 - val_loss: 0.6762 - val_accuracy: 0.5556\n",
      "Epoch 5/10\n",
      "8/8 [==============================] - 5s 591ms/step - loss: 0.6748 - accuracy: 0.5656 - val_loss: 0.6687 - val_accuracy: 0.6078\n",
      "Epoch 6/10\n",
      "8/8 [==============================] - 5s 649ms/step - loss: 0.6607 - accuracy: 0.6434 - val_loss: 0.6655 - val_accuracy: 0.5817\n",
      "Epoch 7/10\n",
      "8/8 [==============================] - 5s 614ms/step - loss: 0.6235 - accuracy: 0.6844 - val_loss: 0.6675 - val_accuracy: 0.6340\n",
      "Epoch 8/10\n",
      "8/8 [==============================] - 5s 614ms/step - loss: 0.6472 - accuracy: 0.6066 - val_loss: 0.6560 - val_accuracy: 0.6667\n",
      "Epoch 9/10\n",
      "8/8 [==============================] - 5s 627ms/step - loss: 0.6148 - accuracy: 0.6311 - val_loss: 0.6815 - val_accuracy: 0.5229\n",
      "Epoch 10/10\n",
      "8/8 [==============================] - 5s 592ms/step - loss: 0.5907 - accuracy: 0.6844 - val_loss: 0.6369 - val_accuracy: 0.6732\n"
     ]
    },
    {
     "data": {
      "text/plain": [
       "<tensorflow.python.keras.callbacks.History at 0x1c90e9e5b48>"
      ]
     },
     "execution_count": 7,
     "metadata": {},
     "output_type": "execute_result"
    }
   ],
   "source": [
    "model.fit(train, epochs=10, validation_data=test)"
   ]
  },
  {
   "cell_type": "markdown",
   "metadata": {},
   "source": [
    "### BatchNorm"
   ]
  },
  {
   "cell_type": "code",
   "execution_count": 8,
   "metadata": {},
   "outputs": [],
   "source": [
    "i = keras.layers.Input(shape=(224,224,3))\n",
    "o = keras.layers.BatchNormalization()(i)\n",
    "o = keras.layers.Conv2D(16, (5,5), strides=(3,3))(o)\n",
    "o = keras.layers.MaxPool2D((2,2))(o)\n",
    "o = keras.layers.ReLU()(o)\n",
    "o = keras.layers.BatchNormalization()(o)\n",
    "o = keras.layers.Conv2D(32, (3,3))(o)\n",
    "o = keras.layers.MaxPool2D((2,2))(o)\n",
    "o = keras.layers.ReLU()(o)\n",
    "o = keras.layers.BatchNormalization()(o)\n",
    "o = keras.layers.Conv2D(64, (3,3), strides=(1,1))(o)\n",
    "o = keras.layers.MaxPool2D((2,2))(o)\n",
    "o = keras.layers.ReLU()(o)\n",
    "o = keras.layers.BatchNormalization()(o)\n",
    "o = keras.layers.Flatten()(o)\n",
    "o = keras.layers.Dense(1, activation='sigmoid')(o)"
   ]
  },
  {
   "cell_type": "code",
   "execution_count": 9,
   "metadata": {},
   "outputs": [
    {
     "name": "stdout",
     "output_type": "stream",
     "text": [
      "Model: \"model_1\"\n",
      "_________________________________________________________________\n",
      "Layer (type)                 Output Shape              Param #   \n",
      "=================================================================\n",
      "input_2 (InputLayer)         [(None, 224, 224, 3)]     0         \n",
      "_________________________________________________________________\n",
      "batch_normalization (BatchNo (None, 224, 224, 3)       12        \n",
      "_________________________________________________________________\n",
      "conv2d_3 (Conv2D)            (None, 74, 74, 16)        1216      \n",
      "_________________________________________________________________\n",
      "max_pooling2d_3 (MaxPooling2 (None, 37, 37, 16)        0         \n",
      "_________________________________________________________________\n",
      "re_lu_3 (ReLU)               (None, 37, 37, 16)        0         \n",
      "_________________________________________________________________\n",
      "batch_normalization_1 (Batch (None, 37, 37, 16)        64        \n",
      "_________________________________________________________________\n",
      "conv2d_4 (Conv2D)            (None, 35, 35, 32)        4640      \n",
      "_________________________________________________________________\n",
      "max_pooling2d_4 (MaxPooling2 (None, 17, 17, 32)        0         \n",
      "_________________________________________________________________\n",
      "re_lu_4 (ReLU)               (None, 17, 17, 32)        0         \n",
      "_________________________________________________________________\n",
      "batch_normalization_2 (Batch (None, 17, 17, 32)        128       \n",
      "_________________________________________________________________\n",
      "conv2d_5 (Conv2D)            (None, 15, 15, 64)        18496     \n",
      "_________________________________________________________________\n",
      "max_pooling2d_5 (MaxPooling2 (None, 7, 7, 64)          0         \n",
      "_________________________________________________________________\n",
      "re_lu_5 (ReLU)               (None, 7, 7, 64)          0         \n",
      "_________________________________________________________________\n",
      "batch_normalization_3 (Batch (None, 7, 7, 64)          256       \n",
      "_________________________________________________________________\n",
      "flatten_1 (Flatten)          (None, 3136)              0         \n",
      "_________________________________________________________________\n",
      "dense_1 (Dense)              (None, 1)                 3137      \n",
      "=================================================================\n",
      "Total params: 27,949\n",
      "Trainable params: 27,719\n",
      "Non-trainable params: 230\n",
      "_________________________________________________________________\n"
     ]
    }
   ],
   "source": [
    "model = keras.Model(inputs=i, outputs=o)\n",
    "model.compile(optimizer='adam', loss='binary_crossentropy', metrics=['accuracy'])\n",
    "model.summary()"
   ]
  },
  {
   "cell_type": "code",
   "execution_count": 10,
   "metadata": {},
   "outputs": [
    {
     "name": "stdout",
     "output_type": "stream",
     "text": [
      "Train for 8 steps, validate for 5 steps\n",
      "Epoch 1/10\n",
      "8/8 [==============================] - 10s 1s/step - loss: 0.9019 - accuracy: 0.5533 - val_loss: 0.6962 - val_accuracy: 0.4967\n",
      "Epoch 2/10\n",
      "8/8 [==============================] - 9s 1s/step - loss: 0.4595 - accuracy: 0.7787 - val_loss: 0.6942 - val_accuracy: 0.4967\n",
      "Epoch 3/10\n",
      "8/8 [==============================] - 9s 1s/step - loss: 0.2442 - accuracy: 0.9139 - val_loss: 0.6887 - val_accuracy: 0.5163\n",
      "Epoch 4/10\n",
      "8/8 [==============================] - 9s 1s/step - loss: 0.1603 - accuracy: 0.9754 - val_loss: 0.6815 - val_accuracy: 0.5752\n",
      "Epoch 5/10\n",
      "8/8 [==============================] - 9s 1s/step - loss: 0.0979 - accuracy: 0.9918 - val_loss: 0.6962 - val_accuracy: 0.4902\n",
      "Epoch 6/10\n",
      "8/8 [==============================] - 9s 1s/step - loss: 0.0666 - accuracy: 1.0000 - val_loss: 0.7037 - val_accuracy: 0.4575\n",
      "Epoch 7/10\n",
      "8/8 [==============================] - 9s 1s/step - loss: 0.0481 - accuracy: 1.0000 - val_loss: 0.7142 - val_accuracy: 0.4771\n",
      "Epoch 8/10\n",
      "8/8 [==============================] - 9s 1s/step - loss: 0.0366 - accuracy: 1.0000 - val_loss: 0.7220 - val_accuracy: 0.4706\n",
      "Epoch 9/10\n",
      "8/8 [==============================] - 9s 1s/step - loss: 0.0275 - accuracy: 1.0000 - val_loss: 0.7498 - val_accuracy: 0.4706\n",
      "Epoch 10/10\n",
      "8/8 [==============================] - 9s 1s/step - loss: 0.0220 - accuracy: 1.0000 - val_loss: 0.7711 - val_accuracy: 0.4641\n"
     ]
    },
    {
     "data": {
      "text/plain": [
       "<tensorflow.python.keras.callbacks.History at 0x1c90ee32a08>"
      ]
     },
     "execution_count": 10,
     "metadata": {},
     "output_type": "execute_result"
    }
   ],
   "source": [
    "model.fit(train, epochs=10, validation_data=test)"
   ]
  },
  {
   "cell_type": "markdown",
   "metadata": {},
   "source": [
    "### Модель ResNet 50"
   ]
  },
  {
   "cell_type": "code",
   "execution_count": 11,
   "metadata": {},
   "outputs": [
    {
     "name": "stdout",
     "output_type": "stream",
     "text": [
      "Found 244 images belonging to 2 classes.\n",
      "Found 153 images belonging to 2 classes.\n"
     ]
    }
   ],
   "source": [
    "train_generator = keras.preprocessing.image.ImageDataGenerator(rescale=1./255.)\n",
    "test_generator = keras.preprocessing.image.ImageDataGenerator(rescale=1./255.)\n",
    "train = train_generator.flow_from_directory('hymenoptera_data/train', target_size=(224, 224), batch_size=32, class_mode='binary')\n",
    "test = test_generator.flow_from_directory('hymenoptera_data/val', target_size=(224, 224), batch_size=32, class_mode='binary')"
   ]
  },
  {
   "cell_type": "code",
   "execution_count": 12,
   "metadata": {},
   "outputs": [],
   "source": [
    "resnet50 = keras.applications.ResNet50(include_top=False, weights=None)"
   ]
  },
  {
   "cell_type": "code",
   "execution_count": 13,
   "metadata": {},
   "outputs": [],
   "source": [
    "i = keras.layers.Input((224, 224, 3), dtype = tf.uint8)\n",
    "o = tf.cast(i, tf.float32)\n",
    "o = keras.applications.resnet50.preprocess_input(o)\n",
    "o = resnet50(o)\n",
    "o = keras.layers.Flatten()(o)\n",
    "o = keras.layers.Dense(1, activation='sigmoid')(o)"
   ]
  },
  {
   "cell_type": "code",
   "execution_count": 14,
   "metadata": {},
   "outputs": [
    {
     "name": "stdout",
     "output_type": "stream",
     "text": [
      "Model: \"model_2\"\n",
      "_________________________________________________________________\n",
      "Layer (type)                 Output Shape              Param #   \n",
      "=================================================================\n",
      "input_4 (InputLayer)         [(None, 224, 224, 3)]     0         \n",
      "_________________________________________________________________\n",
      "tf_op_layer_Cast (TensorFlow [(None, 224, 224, 3)]     0         \n",
      "_________________________________________________________________\n",
      "tf_op_layer_strided_slice (T [(None, 224, 224, 3)]     0         \n",
      "_________________________________________________________________\n",
      "tf_op_layer_BiasAdd (TensorF [(None, 224, 224, 3)]     0         \n",
      "_________________________________________________________________\n",
      "resnet50 (Model)             multiple                  23587712  \n",
      "_________________________________________________________________\n",
      "flatten_2 (Flatten)          (None, 100352)            0         \n",
      "_________________________________________________________________\n",
      "dense_2 (Dense)              (None, 1)                 100353    \n",
      "=================================================================\n",
      "Total params: 23,688,065\n",
      "Trainable params: 23,634,945\n",
      "Non-trainable params: 53,120\n",
      "_________________________________________________________________\n"
     ]
    }
   ],
   "source": [
    "model = keras.Model(inputs=i, outputs=o)\n",
    "model.compile(optimizer='adam', loss='binary_crossentropy', metrics=['accuracy'])\n",
    "model.summary()"
   ]
  },
  {
   "cell_type": "code",
   "execution_count": 15,
   "metadata": {},
   "outputs": [
    {
     "name": "stdout",
     "output_type": "stream",
     "text": [
      "Train for 8 steps, validate for 5 steps\n",
      "Epoch 1/10\n",
      "8/8 [==============================] - 314s 39s/step - loss: 22.6040 - accuracy: 0.4590 - val_loss: 953.1061 - val_accuracy: 0.4575\n",
      "Epoch 2/10\n",
      "8/8 [==============================] - 290s 36s/step - loss: 9.2965 - accuracy: 0.4385 - val_loss: 55706.5094 - val_accuracy: 0.4575\n",
      "Epoch 3/10\n",
      "8/8 [==============================] - 323s 40s/step - loss: 8.2155 - accuracy: 0.5533 - val_loss: 97461.5141 - val_accuracy: 0.4575\n",
      "Epoch 4/10\n",
      "8/8 [==============================] - 331s 41s/step - loss: 6.5800 - accuracy: 0.5123 - val_loss: 43847.4500 - val_accuracy: 0.4575\n",
      "Epoch 5/10\n",
      "8/8 [==============================] - 320s 40s/step - loss: 4.6399 - accuracy: 0.4877 - val_loss: 16603.2342 - val_accuracy: 0.4575\n",
      "Epoch 6/10\n",
      "8/8 [==============================] - 329s 41s/step - loss: 2.9776 - accuracy: 0.4795 - val_loss: 5510.7603 - val_accuracy: 0.4575\n",
      "Epoch 7/10\n",
      "8/8 [==============================] - 334s 42s/step - loss: 1.9016 - accuracy: 0.4549 - val_loss: 2713.9288 - val_accuracy: 0.4575\n",
      "Epoch 8/10\n",
      "8/8 [==============================] - 329s 41s/step - loss: 1.0767 - accuracy: 0.5369 - val_loss: 1326.9024 - val_accuracy: 0.4575\n",
      "Epoch 9/10\n",
      "8/8 [==============================] - 335s 42s/step - loss: 1.7855 - accuracy: 0.5041 - val_loss: 621.2081 - val_accuracy: 0.4575\n",
      "Epoch 10/10\n",
      "8/8 [==============================] - 342s 43s/step - loss: 1.8923 - accuracy: 0.4713 - val_loss: 338.7396 - val_accuracy: 0.4575\n"
     ]
    },
    {
     "data": {
      "text/plain": [
       "<tensorflow.python.keras.callbacks.History at 0x1c92096e5c8>"
      ]
     },
     "execution_count": 15,
     "metadata": {},
     "output_type": "execute_result"
    }
   ],
   "source": [
    "model.fit(train, epochs=10, validation_data=test)"
   ]
  },
  {
   "cell_type": "markdown",
   "metadata": {},
   "source": [
    "#### с весами ImageNet"
   ]
  },
  {
   "cell_type": "code",
   "execution_count": 20,
   "metadata": {},
   "outputs": [],
   "source": [
    "resnet50 = keras.applications.ResNet50(include_top=False, weights='imagenet')"
   ]
  },
  {
   "cell_type": "code",
   "execution_count": 21,
   "metadata": {},
   "outputs": [],
   "source": [
    "i = keras.layers.Input((224, 224, 3), dtype = tf.uint8)\n",
    "o = tf.cast(i, tf.float32)\n",
    "o = keras.applications.resnet50.preprocess_input(o)\n",
    "o = resnet50(o)\n",
    "o = keras.layers.Flatten()(o)\n",
    "o = keras.layers.Dense(1, activation='sigmoid')(o)"
   ]
  },
  {
   "cell_type": "code",
   "execution_count": 22,
   "metadata": {},
   "outputs": [],
   "source": [
    "resnet50.trainable = False"
   ]
  },
  {
   "cell_type": "code",
   "execution_count": 23,
   "metadata": {},
   "outputs": [
    {
     "name": "stdout",
     "output_type": "stream",
     "text": [
      "Model: \"model_4\"\n",
      "_________________________________________________________________\n",
      "Layer (type)                 Output Shape              Param #   \n",
      "=================================================================\n",
      "input_8 (InputLayer)         [(None, 224, 224, 3)]     0         \n",
      "_________________________________________________________________\n",
      "tf_op_layer_Cast_2 (TensorFl [(None, 224, 224, 3)]     0         \n",
      "_________________________________________________________________\n",
      "tf_op_layer_strided_slice_2  [(None, 224, 224, 3)]     0         \n",
      "_________________________________________________________________\n",
      "tf_op_layer_BiasAdd_2 (Tenso [(None, 224, 224, 3)]     0         \n",
      "_________________________________________________________________\n",
      "resnet50 (Model)             multiple                  23587712  \n",
      "_________________________________________________________________\n",
      "flatten_4 (Flatten)          (None, 100352)            0         \n",
      "_________________________________________________________________\n",
      "dense_4 (Dense)              (None, 1)                 100353    \n",
      "=================================================================\n",
      "Total params: 23,688,065\n",
      "Trainable params: 100,353\n",
      "Non-trainable params: 23,587,712\n",
      "_________________________________________________________________\n"
     ]
    }
   ],
   "source": [
    "model = keras.Model(inputs=i, outputs=o)\n",
    "model.compile(optimizer='adam', loss='binary_crossentropy', metrics=['accuracy'])\n",
    "model.summary()"
   ]
  },
  {
   "cell_type": "code",
   "execution_count": 24,
   "metadata": {},
   "outputs": [
    {
     "name": "stdout",
     "output_type": "stream",
     "text": [
      "Train for 8 steps, validate for 5 steps\n",
      "Epoch 1/10\n",
      "8/8 [==============================] - 216s 27s/step - loss: 6.1409 - accuracy: 0.4877 - val_loss: 1.4787 - val_accuracy: 0.5425\n",
      "Epoch 2/10\n",
      "8/8 [==============================] - 293s 37s/step - loss: 2.6239 - accuracy: 0.6352 - val_loss: 1.0372 - val_accuracy: 0.5425\n",
      "Epoch 3/10\n",
      "8/8 [==============================] - 363s 45s/step - loss: 0.4076 - accuracy: 0.8893 - val_loss: 2.2339 - val_accuracy: 0.5425\n",
      "Epoch 4/10\n",
      "8/8 [==============================] - 344s 43s/step - loss: 0.2922 - accuracy: 0.9385 - val_loss: 2.3906 - val_accuracy: 0.5425\n",
      "Epoch 5/10\n",
      "8/8 [==============================] - 306s 38s/step - loss: 0.1631 - accuracy: 0.9221 - val_loss: 2.0931 - val_accuracy: 0.5425\n",
      "Epoch 6/10\n",
      "8/8 [==============================] - 216s 27s/step - loss: 0.3253 - accuracy: 0.9303 - val_loss: 2.4732 - val_accuracy: 0.5425\n",
      "Epoch 7/10\n",
      "8/8 [==============================] - 167s 21s/step - loss: 0.2052 - accuracy: 0.9426 - val_loss: 2.1782 - val_accuracy: 0.5425\n",
      "Epoch 8/10\n",
      "8/8 [==============================] - 161s 20s/step - loss: 0.2082 - accuracy: 0.9385 - val_loss: 2.2269 - val_accuracy: 0.5425\n",
      "Epoch 9/10\n",
      "8/8 [==============================] - 165s 21s/step - loss: 0.1271 - accuracy: 0.9631 - val_loss: 1.9669 - val_accuracy: 0.5425\n",
      "Epoch 10/10\n",
      "8/8 [==============================] - 179s 22s/step - loss: 0.0788 - accuracy: 0.9672 - val_loss: 1.8267 - val_accuracy: 0.5425\n"
     ]
    },
    {
     "data": {
      "text/plain": [
       "<tensorflow.python.keras.callbacks.History at 0x1c9440c6d88>"
      ]
     },
     "execution_count": 24,
     "metadata": {},
     "output_type": "execute_result"
    }
   ],
   "source": [
    "model.fit(train, epochs=10, validation_data=test)"
   ]
  },
  {
   "cell_type": "markdown",
   "metadata": {},
   "source": [
    "К сожалению, модель переобучилась"
   ]
  },
  {
   "cell_type": "code",
   "execution_count": null,
   "metadata": {},
   "outputs": [],
   "source": []
  }
 ],
 "metadata": {
  "kernelspec": {
   "display_name": "Python 3",
   "language": "python",
   "name": "python3"
  },
  "language_info": {
   "codemirror_mode": {
    "name": "ipython",
    "version": 3
   },
   "file_extension": ".py",
   "mimetype": "text/x-python",
   "name": "python",
   "nbconvert_exporter": "python",
   "pygments_lexer": "ipython3",
   "version": "3.7.6"
  }
 },
 "nbformat": 4,
 "nbformat_minor": 4
}
